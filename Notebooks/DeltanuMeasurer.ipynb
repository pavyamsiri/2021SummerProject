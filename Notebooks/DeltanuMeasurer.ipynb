{
 "cells": [
  {
   "cell_type": "code",
   "execution_count": null,
   "metadata": {},
   "outputs": [],
   "source": [
    "# Standard libraries\n",
    "import sys\n",
    "\n",
    "# External libraries\n",
    "import lightkurve as lk\n",
    "import pandas as pd\n",
    "import numpy as np\n",
    "from astropy import units as u\n",
    "from astropy.convolution import convolve, Box1DKernel\n",
    "from echelle import interact_echelle\n",
    "\n",
    "# Internal libraries\n",
    "sys.path.append(\"../Scripts/\")\n",
    "from utils import *"
   ]
  },
  {
   "cell_type": "code",
   "execution_count": null,
   "metadata": {},
   "outputs": [],
   "source": [
    "input_data = \"../Data/Comparison/dht_comparison_data.csv\"\n",
    "output_file = input_data"
   ]
  },
  {
   "cell_type": "code",
   "execution_count": null,
   "metadata": {},
   "outputs": [],
   "source": [
    "measurement_sheet = pd.read_csv(input_data)\n",
    "measurement_sheet"
   ]
  },
  {
   "cell_type": "code",
   "execution_count": null,
   "metadata": {},
   "outputs": [],
   "source": [
    "# Constants\n",
    "cache = \"../cache\"\n",
    "\n",
    "# Change this value to select the star to study\n",
    "star_index = 5\n",
    "\n",
    "# Initial parameters\n",
    "target = measurement_sheet[\"Main ID\"][star_index]\n",
    "# Change to True if want to use fast 20-second cadence data\n",
    "fast = False\n",
    "# Prior numax and deltanu\n",
    "numax = measurement_sheet[\"numax (muHz)\"][star_index]\n",
    "deltanu = measurement_sheet[\"dnu (muHz)\"][star_index]\n",
    "min_freq = 0.3*numax\n",
    "max_freq = 1.7*numax"
   ]
  },
  {
   "cell_type": "code",
   "execution_count": null,
   "metadata": {},
   "outputs": [],
   "source": [
    "%matplotlib inline\n",
    "# Download data\n",
    "lc = grab_lightcurve(target, cache, fast)\n",
    "lc.scatter();"
   ]
  },
  {
   "cell_type": "code",
   "execution_count": null,
   "metadata": {},
   "outputs": [],
   "source": [
    "%matplotlib inline\n",
    "# Convert to periodogram\n",
    "pg = lc.to_periodogram(\n",
    "    method=\"lombscargle\",\n",
    "    normalization=\"amplitude\",\n",
    "    minimum_frequency=min_freq,\n",
    "    maximum_frequency=max_freq,\n",
    "    oversample_factor=10,\n",
    "    freq_unit=u.microhertz\n",
    ")\n",
    "pg.plot();\n",
    "\n",
    "# Flattened SNR diagram\n",
    "snr = pg.flatten()\n",
    "snr.plot();"
   ]
  },
  {
   "cell_type": "code",
   "execution_count": null,
   "metadata": {},
   "outputs": [],
   "source": [
    "%matplotlib notebook\n",
    "# Smooth and interact echelle\n",
    "smooth_width = 2\n",
    "smooth_frequency = pg.frequency.to_value()\n",
    "smooth_amplitude = convolve(pg.power, Box1DKernel(smooth_width))\n",
    "interact_echelle(smooth_frequency, smooth_amplitude, 0.5*deltanu, 1.5*deltanu, step=0.01)"
   ]
  },
  {
   "cell_type": "code",
   "execution_count": null,
   "metadata": {},
   "outputs": [],
   "source": [
    "# Check the star's parameters\n",
    "measurement_sheet.loc[star_index]"
   ]
  },
  {
   "cell_type": "code",
   "execution_count": null,
   "metadata": {},
   "outputs": [],
   "source": [
    "# Uncomment to manually set new measured values\n",
    "# measurement_sheet.loc[star_index, \"dnu (muHz)\"] = 6.18\n",
    "# measurement_sheet.loc[star_index, \"dnu error (muHz)\"] = 0.04"
   ]
  },
  {
   "cell_type": "code",
   "execution_count": null,
   "metadata": {},
   "outputs": [],
   "source": [
    "# Save to file\n",
    "measurement_sheet.to_csv(output_file, index=False)"
   ]
  },
  {
   "cell_type": "code",
   "execution_count": null,
   "metadata": {},
   "outputs": [],
   "source": [
    "# Final check\n",
    "measurement_sheet"
   ]
  },
  {
   "cell_type": "code",
   "execution_count": null,
   "metadata": {},
   "outputs": [],
   "source": []
  }
 ],
 "metadata": {
  "kernelspec": {
   "display_name": "Python 3",
   "language": "python",
   "name": "python3"
  },
  "language_info": {
   "codemirror_mode": {
    "name": "ipython",
    "version": 3
   },
   "file_extension": ".py",
   "mimetype": "text/x-python",
   "name": "python",
   "nbconvert_exporter": "python",
   "pygments_lexer": "ipython3",
   "version": "3.8.3-final"
  }
 },
 "nbformat": 4,
 "nbformat_minor": 2
}